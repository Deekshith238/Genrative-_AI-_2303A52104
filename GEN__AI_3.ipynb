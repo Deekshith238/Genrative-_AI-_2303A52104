{
  "nbformat": 4,
  "nbformat_minor": 0,
  "metadata": {
    "colab": {
      "provenance": [],
      "authorship_tag": "ABX9TyPIVayQh/KvotOI4tHfKu9Q",
      "include_colab_link": true
    },
    "kernelspec": {
      "name": "python3",
      "display_name": "Python 3"
    },
    "language_info": {
      "name": "python"
    }
  },
  "cells": [
    {
      "cell_type": "markdown",
      "metadata": {
        "id": "view-in-github",
        "colab_type": "text"
      },
      "source": [
        "<a href=\"https://colab.research.google.com/github/Deekshith238/Genrative-_AI-_2303A52104/blob/main/GEN__AI_3.ipynb\" target=\"_parent\"><img src=\"https://colab.research.google.com/assets/colab-badge.svg\" alt=\"Open In Colab\"/></a>"
      ]
    },
    {
      "cell_type": "markdown",
      "source": [
        "Write Python code without using any libraries to find the value of x at which the\n",
        "function f(x) shown in equation (1) has minimum value. Consider Gradient Descent Algorithm.\n",
        "f (x) = 5x4 + 3x2 + 10"
      ],
      "metadata": {
        "id": "ztSPZtWxmi7T"
      }
    },
    {
      "cell_type": "code",
      "execution_count": 1,
      "metadata": {
        "id": "MHO6ERnui6DF"
      },
      "outputs": [],
      "source": [
        "def f(x):\n",
        "  return 5 * x**4 + 3 * x**2 + 10"
      ]
    },
    {
      "cell_type": "code",
      "source": [
        "def df(x):\n",
        "  return 20 * x**3 + 6 * x"
      ],
      "metadata": {
        "id": "2IjLFYpfi64n"
      },
      "execution_count": 2,
      "outputs": []
    },
    {
      "cell_type": "code",
      "source": [
        "def gradient_descent(learning_rate=0.01, iterations=1000, initial_x=1):\n",
        "  x = initial_x\n",
        "  for _ in range(iterations):\n",
        "    gradient = df(x)\n",
        "    x = x - learning_rate * gradient\n",
        "  return x\n"
      ],
      "metadata": {
        "id": "Yw5jOopCi6tE"
      },
      "execution_count": 3,
      "outputs": []
    },
    {
      "cell_type": "code",
      "source": [
        "learning_rate = 0.01\n",
        "iterations = 1000\n",
        "initial_x = 1"
      ],
      "metadata": {
        "id": "xkVRz45ooqpG"
      },
      "execution_count": 18,
      "outputs": []
    },
    {
      "cell_type": "code",
      "source": [
        "x_min = gradient_descent(learning_rate, iterations, initial_x)"
      ],
      "metadata": {
        "id": "r0sWp70Roqlj"
      },
      "execution_count": 5,
      "outputs": []
    },
    {
      "cell_type": "code",
      "source": [
        "print(\"The value of x at which the function has a minimum is:\", x_min)"
      ],
      "metadata": {
        "colab": {
          "base_uri": "https://localhost:8080/"
        },
        "id": "2to6huTEoqiy",
        "outputId": "2050e167-1704-4597-8d05-fb408b33ad9a"
      },
      "execution_count": 6,
      "outputs": [
        {
          "output_type": "stream",
          "name": "stdout",
          "text": [
            "The value of x at which the function has a minimum is: 5.963540395046457e-28\n"
          ]
        }
      ]
    },
    {
      "cell_type": "markdown",
      "source": [
        "2.Write Python code without using any libraries to find the value of x and y at which the\n",
        "function g(x,y) shown in equation (2) has minimum value. Consider Gradient Descent Algorithm.\n",
        "f (x) = 3x2 + 5e−y + 10"
      ],
      "metadata": {
        "id": "0AGMDL6yo7Ne"
      }
    },
    {
      "cell_type": "code",
      "source": [
        "import math\n",
        "def g(x, y):\n",
        "  return 3 * x**2 + 5 * math.exp(-y) + 10\n"
      ],
      "metadata": {
        "id": "aglm-XCdoqf8"
      },
      "execution_count": 7,
      "outputs": []
    },
    {
      "cell_type": "code",
      "source": [
        "def dg_dx(x, y):\n",
        "  return 6 * x\n",
        "\n",
        "def dg_dy(x, y):\n",
        "  return -5 * math.exp(-y)"
      ],
      "metadata": {
        "id": "YJ2asyiyoqcr"
      },
      "execution_count": 8,
      "outputs": []
    },
    {
      "cell_type": "code",
      "source": [
        "def gradient_descent(learning_rate=0.01, iterations=1000, initial_x=1, initial_y=1):\n",
        "  x = initial_x\n",
        "  y = initial_y\n",
        "  for _ in range(iterations):\n",
        "    gradient_x = dg_dx(x, y)\n",
        "    gradient_y = dg_dy(x, y)\n",
        "    x = x - learning_rate * gradient_x\n",
        "    y = y - learning_rate * gradient_y\n",
        "  return x, y"
      ],
      "metadata": {
        "id": "v87KexqjoqZc"
      },
      "execution_count": 9,
      "outputs": []
    },
    {
      "cell_type": "code",
      "source": [
        "learning_rate = 0.01\n",
        "iterations = 1000\n",
        "initial_x = 1\n",
        "initial_y = 1"
      ],
      "metadata": {
        "id": "s8XBvlV-oqW7"
      },
      "execution_count": 10,
      "outputs": []
    },
    {
      "cell_type": "code",
      "source": [
        "x_min, y_min = gradient_descent(learning_rate, iterations, initial_x, initial_y)\n",
        "print(\"The value of x at which the function has a minimum is:\", x_min)\n",
        "print(\"The value of y at which the function has a minimum is:\", y_min)"
      ],
      "metadata": {
        "colab": {
          "base_uri": "https://localhost:8080/"
        },
        "id": "hbXLesgxoqUr",
        "outputId": "3eb758b0-445f-44c7-c0bd-619c5533b957"
      },
      "execution_count": 11,
      "outputs": [
        {
          "output_type": "stream",
          "name": "stdout",
          "text": [
            "The value of x at which the function has a minimum is: 1.3423123924933694e-27\n",
            "The value of y at which the function has a minimum is: 3.9663707936306642\n"
          ]
        }
      ]
    },
    {
      "cell_type": "markdown",
      "source": [
        "3.Write Python code without using any libraries to find the value of x at which the\n",
        "sigmoid function z(x) shown in equation (3) has minimum value. Consider Gradient Descent\n",
        "Algorithm.\n",
        "z(x) = 1\n",
        "1 + e−x"
      ],
      "metadata": {
        "id": "qFYxeZKGpSLH"
      }
    },
    {
      "cell_type": "code",
      "source": [
        "import math\n",
        "def sigmoid(x):\n",
        "  return 1 / (1 + math.exp(-x))"
      ],
      "metadata": {
        "id": "ld6QKLu2oqR7"
      },
      "execution_count": 12,
      "outputs": []
    },
    {
      "cell_type": "code",
      "source": [
        "def sigmoid_derivative(x):\n",
        "  return sigmoid(x) * (1 - sigmoid(x))"
      ],
      "metadata": {
        "id": "CJS_m6mppVoV"
      },
      "execution_count": 13,
      "outputs": []
    },
    {
      "cell_type": "code",
      "source": [
        "def gradient_descent(learning_rate=0.01, iterations=1000, initial_x=0):\n",
        "  x = initial_x\n",
        "  for _ in range(iterations):\n",
        "    gradient = sigmoid_derivative(x)\n",
        "    x = x - learning_rate * gradient\n",
        "  return x"
      ],
      "metadata": {
        "id": "S2mirR8ipVk3"
      },
      "execution_count": 14,
      "outputs": []
    },
    {
      "cell_type": "code",
      "source": [
        "learning_rate = 0.01\n",
        "iterations = 1000\n",
        "initial_x = 0\n"
      ],
      "metadata": {
        "id": "Sy6IvO_bpVil"
      },
      "execution_count": 15,
      "outputs": []
    },
    {
      "cell_type": "code",
      "source": [
        "x_min = gradient_descent(learning_rate, iterations, initial_x)\n",
        "print(\"The value of x at which the sigmoid function has a minimum is:\", x_min)"
      ],
      "metadata": {
        "colab": {
          "base_uri": "https://localhost:8080/"
        },
        "id": "T-53rjbEpVgL",
        "outputId": "de781212-9f8a-4dfe-cea3-4ffcc883518d"
      },
      "execution_count": 17,
      "outputs": [
        {
          "output_type": "stream",
          "name": "stdout",
          "text": [
            "The value of x at which the sigmoid function has a minimum is: -1.8618354629020137\n"
          ]
        }
      ]
    },
    {
      "cell_type": "code",
      "source": [],
      "metadata": {
        "id": "oYvisB6bpVdm"
      },
      "execution_count": null,
      "outputs": []
    }
  ]
}