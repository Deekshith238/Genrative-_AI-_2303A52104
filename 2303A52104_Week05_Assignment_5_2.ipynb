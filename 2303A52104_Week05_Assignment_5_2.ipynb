{
  "nbformat": 4,
  "nbformat_minor": 0,
  "metadata": {
    "colab": {
      "provenance": [],
      "include_colab_link": true
    },
    "kernelspec": {
      "name": "python3",
      "display_name": "Python 3"
    },
    "language_info": {
      "name": "python"
    }
  },
  "cells": [
    {
      "cell_type": "markdown",
      "metadata": {
        "id": "view-in-github",
        "colab_type": "text"
      },
      "source": [
        "<a href=\"https://colab.research.google.com/github/Deekshith238/Genrative-_AI-_2303A52104/blob/main/2303A52104_Week05_Assignment_5_2.ipynb\" target=\"_parent\"><img src=\"https://colab.research.google.com/assets/colab-badge.svg\" alt=\"Open In Colab\"/></a>"
      ]
    },
    {
      "cell_type": "markdown",
      "source": [
        "## **Assignment-5.2**"
      ],
      "metadata": {
        "id": "iyAmw3p4DWZr"
      }
    },
    {
      "cell_type": "code",
      "source": [
        "import numpy as np\n",
        "def sigmoid(x):\n",
        "    return 1 / (1 + np.exp(-x))\n",
        "def sigmoid_derivative(x):\n",
        "    return x * (1 - x)\n",
        "def linear(x):\n",
        "    return x\n",
        "def linear_derivative(x):\n",
        "    return 1\n",
        "class NeuralNetwork:\n",
        "    def __init__(self):\n",
        "        self.weights1 = np.random.uniform(size=(2, 3))\n",
        "        self.weights2 = np.random.uniform(size=(3, 1))\n",
        "        self.bias1 = np.zeros((1, 3))\n",
        "        self.bias2 = np.zeros((1, 1))\n",
        "        self.learning_rate = 0.1\n",
        "\n",
        "    def forward(self, X):\n",
        "        self.input = X\n",
        "        self.hidden_input = np.dot(X, self.weights1) + self.bias1\n",
        "        self.hidden_output = sigmoid(self.hidden_input)\n",
        "        self.output = np.dot(self.hidden_output, self.weights2) + self.bias2\n",
        "        self.final_output = linear(self.output)\n",
        "        return self.final_output\n",
        "\n",
        "    def backward(self, X, y, output):\n",
        "        self.output_error = y - output\n",
        "        self.output_delta = self.output_error * linear_derivative(output)\n",
        "\n",
        "        self.hidden_error = np.dot(self.output_delta, self.weights2.T)\n",
        "        self.hidden_delta = self.hidden_error * sigmoid_derivative(self.hidden_output)\n",
        "\n",
        "        self.weights2 += self.learning_rate * np.dot(self.hidden_output.T, self.output_delta)\n",
        "        self.bias2 += self.learning_rate * np.sum(self.output_delta, axis=0, keepdims=True)\n",
        "        self.weights1 += self.learning_rate * np.dot(X.T, self.hidden_delta)\n",
        "        self.bias1 += self.learning_rate * np.sum(self.hidden_delta, axis=0, keepdims=True)\n",
        "\n",
        "    def train(self, X, y, epochs=1000):\n",
        "        for _ in range(epochs):\n",
        "            output = self.forward(X)\n",
        "            self.backward(X, y, output)\n",
        "\n",
        "    def predict(self, X):\n",
        "        return self.forward(X)\n",
        "\n",
        "train_data = np.array([\n",
        "    [0.2, 0.1],\n",
        "    [0.3, 0.2],\n",
        "    [0.4, 0.3],\n",
        "    [0.7, 0.6],\n",
        "    [0.8, 0.7],\n",
        "    [0.9, 0.8]\n",
        "])\n",
        "\n",
        "train_target = np.array([\n",
        "    [0.3441],\n",
        "    [0.3500],\n",
        "    [0.3558],\n",
        "    [0.3729],\n",
        "    [0.3785],\n",
        "    [0.3841]\n",
        "])\n",
        "\n",
        "test_data = np.array([\n",
        "    [0.5, 0.4],\n",
        "    [0.6, 0.5]\n",
        "])\n",
        "\n",
        "test_target = np.array([\n",
        "    [0.3615],\n",
        "    [0.3672]\n",
        "])\n",
        "\n",
        "nn = NeuralNetwork()\n",
        "nn.train(train_data, train_target, epochs=1000)\n",
        "def calculate_mse(predictions, targets):\n",
        "    return np.mean((predictions - targets) ** 2)\n",
        "train_predictions = nn.predict(train_data)\n",
        "train_mse = calculate_mse(train_predictions, train_target)\n",
        "print(f\"Training MSE: {train_mse:.6f}\")\n",
        "test_predictions = nn.predict(test_data)\n",
        "test_mse = calculate_mse(test_predictions, test_target)\n",
        "print(f\"Testing MSE: {test_mse:.6f}\")\n",
        "def get_user_prediction(nn):\n",
        "    try:\n",
        "        x1 = float(input(\"Enter x1 value: \"))\n",
        "        x2 = float(input(\"Enter x2 value: \"))\n",
        "        input_data = np.array([[x1, x2]])\n",
        "        prediction = nn.predict(input_data)\n",
        "        print(f\"Predicted output: {prediction[0][0]:.4f}\")\n",
        "    except ValueError:\n",
        "        print(\"Please enter valid numerical values\")\n",
        "\n",
        "print(\"\\nEnter values for prediction:\")\n",
        "get_user_prediction(nn)\n",
        "\n",
        "print(\"\\nNetwork Architecture:\")\n",
        "print(\"Input Layer: 2 neurons (x1, x2)\")\n",
        "print(\"Hidden Layer: 3 neurons (sigmoid activation)\")\n",
        "print(\"Output Layer: 1 neuron (linear activation)\")"
      ],
      "metadata": {
        "colab": {
          "base_uri": "https://localhost:8080/"
        },
        "id": "pM1Z7W52Dfv7",
        "outputId": "d202d96d-aaf3-4239-b561-c3f532a70a74"
      },
      "execution_count": null,
      "outputs": [
        {
          "output_type": "stream",
          "name": "stdout",
          "text": [
            "Training MSE: 0.000000\n",
            "Testing MSE: 0.000000\n",
            "\n",
            "Enter values for prediction:\n",
            "Enter x1 value: 0.5\n",
            "Enter x2 value: 0.4\n",
            "Predicted output: 0.3615\n",
            "\n",
            "Network Architecture:\n",
            "Input Layer: 2 neurons (x1, x2)\n",
            "Hidden Layer: 3 neurons (sigmoid activation)\n",
            "Output Layer: 1 neuron (linear activation)\n"
          ]
        }
      ]
    }
  ]
}